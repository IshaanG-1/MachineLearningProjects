{
 "cells": [
  {
   "cell_type": "code",
   "execution_count": 9,
   "id": "9804a309",
   "metadata": {},
   "outputs": [
    {
     "data": {
      "text/plain": [
       "Cholesky{Float64, Matrix{Float64}}\n",
       "U factor:\n",
       "4×4 UpperTriangular{Float64, Matrix{Float64}}:\n",
       " 100.01  -11.9988    0.0      0.0\n",
       "    ⋅     72.5123  -11.0326   0.0\n",
       "    ⋅       ⋅       29.6695  13.4818\n",
       "    ⋅       ⋅         ⋅       4.27082"
      ]
     },
     "execution_count": 9,
     "metadata": {},
     "output_type": "execute_result"
    }
   ],
   "source": [
    "using LinearAlgebra\n",
    "\n",
    "x0 = [3,2,-1,1]\n",
    "∇f = [8404,2602,-1004,0]\n",
    "∇2f = [[10002, -1200, 0, 0] [-1200, 5402, -800, 0] [0, -800, 1002, 400] [0, 0, 400, 200]]\n",
    "\n",
    "cholesky(∇2f) #this is how to perform the cholesky factorization on the Hessian Matrix"
   ]
  },
  {
   "cell_type": "code",
   "execution_count": 12,
   "id": "c14821eb",
   "metadata": {},
   "outputs": [
    {
     "data": {
      "text/plain": [
       "4×4 LowerTriangular{Float64, Matrix{Float64}}:\n",
       " 100.01       ⋅        ⋅       ⋅ \n",
       " -11.9988   72.5123    ⋅       ⋅ \n",
       "   0.0     -11.0326  29.6695   ⋅ \n",
       "   0.0       0.0     13.4818  4.27082"
      ]
     },
     "execution_count": 12,
     "metadata": {},
     "output_type": "execute_result"
    }
   ],
   "source": [
    "F = cholesky(∇2f)\n",
    "F.L #this is how to access the lower trianglar matrix L. The upper triangle is the default return value as shown above"
   ]
  },
  {
   "cell_type": "markdown",
   "id": "641d4c6a",
   "metadata": {},
   "source": [
    "Since the cholesky factorization didn't fail, the Hessian is positive definite\n",
    "To solve for the first iteration of p using x0:"
   ]
  },
  {
   "cell_type": "code",
   "execution_count": 18,
   "id": "cf458ffa",
   "metadata": {},
   "outputs": [
    {
     "data": {
      "text/plain": [
       "4-element Vector{Float64}:\n",
       "  84.03159726038993\n",
       "  49.78851880038408\n",
       " -15.325564283390783\n",
       "  48.378683778082376"
      ]
     },
     "execution_count": 18,
     "metadata": {},
     "output_type": "execute_result"
    }
   ],
   "source": [
    "y = F.L\\∇f"
   ]
  },
  {
   "cell_type": "code",
   "execution_count": 19,
   "id": "2c256088",
   "metadata": {},
   "outputs": [
    {
     "data": {
      "text/plain": [
       "4-element Vector{Float64}:\n",
       "  0.8192212434961242\n",
       " -0.17512426879313592\n",
       " -5.663858490269837\n",
       " 11.327716980539673"
      ]
     },
     "execution_count": 19,
     "metadata": {},
     "output_type": "execute_result"
    }
   ],
   "source": [
    "x = transpose(F.L)\\y"
   ]
  },
  {
   "cell_type": "markdown",
   "id": "8d533089",
   "metadata": {},
   "source": [
    "This is the computed search direction for the fourth dimensional Rosenbrock function at x0"
   ]
  }
 ],
 "metadata": {
  "kernelspec": {
   "display_name": "Julia 1.8.0",
   "language": "julia",
   "name": "julia-1.8"
  },
  "language_info": {
   "file_extension": ".jl",
   "mimetype": "application/julia",
   "name": "julia",
   "version": "1.8.0"
  }
 },
 "nbformat": 4,
 "nbformat_minor": 5
}
