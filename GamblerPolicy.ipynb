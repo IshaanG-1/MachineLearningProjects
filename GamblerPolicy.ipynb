{
 "cells": [
  {
   "cell_type": "code",
   "execution_count": 1,
   "id": "47ec1c69",
   "metadata": {},
   "outputs": [],
   "source": [
    "import numpy as np\n",
    "import sys\n",
    "import matplotlib.pyplot as plt"
   ]
  },
  {
   "cell_type": "code",
   "execution_count": 61,
   "id": "f10a8909",
   "metadata": {},
   "outputs": [],
   "source": [
    "def value_iteration_for_gamblers(p_h, theta=0.000001, discount_factor=1.0):\n",
    "    rewards = np.zeros(101)\n",
    "    rewards[100] = 1 \n",
    "    \n",
    "    V = np.zeros(101)\n",
    "    \n",
    "    while True:\n",
    "        delta = 0\n",
    "        policy = np.zeros(100)\n",
    "        for s in range(1, 100):\n",
    "            A = np.zeros(101)\n",
    "            stakes = range(1, min(s, 100-s)+1) # Your minimum bet is 1, maximum bet is min(s, 100-s).\n",
    "            for a in stakes:\n",
    "                A[a] = p_h * (rewards[s+a] + V[s+a]*discount_factor) + (1-p_h) * (rewards[s-a] + V[s-a]*discount_factor)\n",
    "            best_action_value = np.max(A)\n",
    "            delta = max(delta, np.abs(best_action_value - V[s])) \n",
    "            V[s] = best_action_value\n",
    "            best_action = np.argmax(A)\n",
    "            policy[s] = best_action\n",
    "        if delta < theta:\n",
    "            break\n",
    "    \n",
    "    return policy, V"
   ]
  },
  {
   "cell_type": "code",
   "execution_count": 62,
   "id": "5aa52e75",
   "metadata": {},
   "outputs": [
    {
     "name": "stdout",
     "output_type": "stream",
     "text": [
      "Optimized Policy:\n",
      "[ 0.  1.  2.  3.  4.  5.  6.  7.  8.  9. 10. 11. 12. 12. 11. 10. 16.  8.\n",
      " 18.  6. 20.  4. 22.  2.  1. 25.  1.  2.  3.  4.  5.  6.  7.  8.  9. 10.\n",
      " 14. 12. 12. 11. 10.  9.  8.  7.  6.  5.  4.  3.  2.  1. 50. 49.  2. 47.\n",
      "  4.  5.  6.  7.  8.  9. 10. 11. 12. 13. 36. 10.  9.  8.  7.  6.  5.  4.\n",
      "  3.  2.  1. 25.  1.  2.  3.  4.  5.  6. 18.  8.  9. 10. 11. 12. 12. 11.\n",
      " 10.  9.  8.  7.  6.  5.  4.  3.  2.  1.]\n",
      "\n",
      "Optimized Value Function:\n",
      "[0.         0.00206557 0.00516406 0.00922541 0.01291015 0.01738534\n",
      " 0.02306366 0.02781405 0.03227537 0.037685   0.04346347 0.05035439\n",
      " 0.05765916 0.06523934 0.06953525 0.0744312  0.08068843 0.086611\n",
      " 0.09421263 0.10314361 0.10865872 0.1159666  0.12588616 0.13357996\n",
      " 0.14414798 0.16       0.16309844 0.16774609 0.1738382  0.17936522\n",
      " 0.18607808 0.19459549 0.20172115 0.20841306 0.21652758 0.22519523\n",
      " 0.2355317  0.24648879 0.25785906 0.26430292 0.27164685 0.28103269\n",
      " 0.28991655 0.30131902 0.31471544 0.32298811 0.33394993 0.34882926\n",
      " 0.36036996 0.37622197 0.4        0.40309844 0.40774609 0.4138382\n",
      " 0.41936522 0.42607808 0.43459549 0.44172115 0.44841306 0.45652758\n",
      " 0.46519523 0.4755317  0.48648879 0.49785906 0.50430292 0.51164685\n",
      " 0.52103269 0.52991655 0.54131902 0.55471544 0.56298811 0.57394993\n",
      " 0.58882926 0.60036996 0.61622197 0.64       0.64464765 0.65161913\n",
      " 0.6607573  0.66904783 0.67911714 0.69189327 0.70258175 0.71261961\n",
      " 0.72479141 0.73779287 0.75329756 0.76973318 0.78678859 0.79645438\n",
      " 0.80747028 0.82154905 0.83487485 0.85197853 0.87207316 0.88448217\n",
      " 0.90092491 0.92324389 0.94055494 0.96433297 0.        ]\n",
      "\n"
     ]
    }
   ],
   "source": [
    "policy, v = value_iteration_for_gamblers(0.4)\n",
    "\n",
    "print(\"Optimized Policy:\")\n",
    "print(policy)\n",
    "print(\"\")\n",
    "\n",
    "print(\"Optimized Value Function:\")\n",
    "print(v)\n",
    "print(\"\")"
   ]
  },
  {
   "cell_type": "code",
   "execution_count": 37,
   "id": "270e67dc",
   "metadata": {},
   "outputs": [
    {
     "data": {
      "image/png": "[encoded data removed]",
      "text/plain": [
       "<Figure size 432x288 with 1 Axes>"
      ]
     },
     "metadata": {
      "needs_background": "light"
     },
     "output_type": "display_data"
    }
   ],
   "source": [
    "# Plotting Final Policy (action stake) vs State (Capital)\n",
    "\n",
    "# x axis values\n",
    "x = range(100)\n",
    "# corresponding y axis values\n",
    "y = v[:100]\n",
    " \n",
    "# plotting the points \n",
    "plt.plot(x, y)\n",
    " \n",
    "# naming the x axis\n",
    "plt.xlabel('Capital')\n",
    "# naming the y axis\n",
    "plt.ylabel('Value Estimates')\n",
    " \n",
    "# giving a title to the graph\n",
    "plt.title('Final Policy (action stake) vs State (Capital)')\n",
    " \n",
    "# function to show the plot\n",
    "plt.show()"
   ]
  },
  {
   "cell_type": "code",
   "execution_count": 63,
   "id": "b341da61",
   "metadata": {},
   "outputs": [
    {
     "data": {
      "image/png": "[encoded data removed]",
      "text/plain": [
       "<Figure size 432x288 with 1 Axes>"
      ]
     },
     "metadata": {
      "needs_background": "light"
     },
     "output_type": "display_data"
    }
   ],
   "source": [
    "# Plotting Capital vs Final Policy\n",
    "\n",
    "# x axis values\n",
    "x = range(100)\n",
    "# corresponding y axis values\n",
    "y = policy\n",
    " \n",
    "# plotting the bars\n",
    "plt.bar(x, y, align='center', alpha=0.5)\n",
    " \n",
    "# naming the x axis\n",
    "plt.xlabel('Capital')\n",
    "# naming the y axis\n",
    "plt.ylabel('Final policy (stake)')\n",
    " \n",
    "# giving a title to the graph\n",
    "plt.title('Capital vs Final Policy')\n",
    " \n",
    "# function to show the plot\n",
    "plt.show()"
   ]
  },
  {
   "cell_type": "code",
   "execution_count": null,
   "id": "81d95af1",
   "metadata": {},
   "outputs": [],
   "source": []
  }
 ],
 "metadata": {
  "kernelspec": {
   "display_name": "Python 3 (ipykernel)",
   "language": "python",
   "name": "python3"
  },
  "language_info": {
   "codemirror_mode": {
    "name": "ipython",
    "version": 3
   },
   "file_extension": ".py",
   "mimetype": "text/x-python",
   "name": "python",
   "nbconvert_exporter": "python",
   "pygments_lexer": "ipython3",
   "version": "3.11.5"
  }
 },
 "nbformat": 4,
 "nbformat_minor": 5
}
